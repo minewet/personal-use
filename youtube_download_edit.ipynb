{
  "nbformat": 4,
  "nbformat_minor": 0,
  "metadata": {
    "colab": {
      "name": "Untitled3.ipynb",
      "provenance": []
    },
    "kernelspec": {
      "name": "python3",
      "display_name": "Python 3"
    },
    "language_info": {
      "name": "python"
    }
  },
  "cells": [
    {
      "cell_type": "code",
      "metadata": {
        "colab": {
          "base_uri": "https://localhost:8080/"
        },
        "id": "yvaHq4wWLmqT",
        "outputId": "3599978f-df04-4a65-d648-86186e3df5d5"
      },
      "source": [
        "!pip install youtube-dl \n",
        "!pip uninstall -y opencv-python-headless opencv-contrib-python \n",
        "!apt install python3-opencv \n",
        "\n",
        "# youtube-dl -F [URL]\n",
        "# youtube-dl [URL] -f [FORMAT]  \n",
        "## => FORMAT : \"youtube-dl -F [URL]\" 결과에서 원하는 화질의 맨 앞 숫자 입력\n",
        "\n",
        "!youtube-dl https://www.youtube.com/watch?v=1obKV6mxA2c -o video.mp4 "
      ],
      "execution_count": 8,
      "outputs": [
        {
          "output_type": "stream",
          "name": "stdout",
          "text": [
            "Requirement already satisfied: youtube-dl in /usr/local/lib/python3.7/dist-packages (2021.6.6)\n",
            "\u001b[33mWARNING: Skipping opencv-python-headless as it is not installed.\u001b[0m\n",
            "\u001b[33mWARNING: Skipping opencv-contrib-python as it is not installed.\u001b[0m\n",
            "Reading package lists... Done\n",
            "Building dependency tree       \n",
            "Reading state information... Done\n",
            "python3-opencv is already the newest version (3.2.0+dfsg-4ubuntu0.1).\n",
            "0 upgraded, 0 newly installed, 0 to remove and 40 not upgraded.\n",
            "[youtube] 1obKV6mxA2c: Downloading webpage\n",
            "\u001b[0;33mWARNING:\u001b[0m Requested formats are incompatible for merge and will be merged into mkv.\n",
            "[download] Destination: video.f137.mp4\n",
            "\u001b[K[download] 100% of 127.01MiB in 00:33\n",
            "[download] Destination: video.mp4.f251\n",
            "\u001b[K[download] 100% of 7.20MiB in 00:00\n",
            "[ffmpeg] Merging formats into \"video.mkv\"\n",
            "Deleting original file video.f137.mp4 (pass -k to keep)\n",
            "Deleting original file video.mp4.f251 (pass -k to keep)\n"
          ]
        }
      ]
    },
    {
      "cell_type": "code",
      "metadata": {
        "id": "_2kEEq8iOtF8"
      },
      "source": [
        "# 영상 길이 편집한 복사본 생성\n",
        "!ffmpeg -i video.mp4 -t 00:00:06 -c:v copy test.mp4"
      ],
      "execution_count": null,
      "outputs": []
    }
  ]
}